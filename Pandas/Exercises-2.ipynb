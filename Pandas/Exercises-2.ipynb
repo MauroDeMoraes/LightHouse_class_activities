{
 "cells": [
  {
   "cell_type": "code",
   "execution_count": 1,
   "metadata": {
    "collapsed": false,
    "jupyter": {
     "outputs_hidden": false
    }
   },
   "outputs": [],
   "source": [
    "import pandas as pd"
   ]
  },
  {
   "cell_type": "markdown",
   "metadata": {},
   "source": [
    "### Download the data and load it to Pandas. \n",
    "\n",
    "You can find them [here](https://drive.google.com/file/d/1NY6cmF9Shjw-dD7BD6bNmfcIVz-kQcFR/view?usp=sharing)."
   ]
  },
  {
   "cell_type": "code",
   "execution_count": 4,
   "metadata": {
    "collapsed": false,
    "jupyter": {
     "outputs_hidden": false
    }
   },
   "outputs": [
    {
     "data": {
      "text/html": [
       "<div>\n",
       "<style scoped>\n",
       "    .dataframe tbody tr th:only-of-type {\n",
       "        vertical-align: middle;\n",
       "    }\n",
       "\n",
       "    .dataframe tbody tr th {\n",
       "        vertical-align: top;\n",
       "    }\n",
       "\n",
       "    .dataframe thead th {\n",
       "        text-align: right;\n",
       "    }\n",
       "</style>\n",
       "<table border=\"1\" class=\"dataframe\">\n",
       "  <thead>\n",
       "    <tr style=\"text-align: right;\">\n",
       "      <th></th>\n",
       "      <th>title</th>\n",
       "      <th>year</th>\n",
       "    </tr>\n",
       "  </thead>\n",
       "  <tbody>\n",
       "    <tr>\n",
       "      <th>0</th>\n",
       "      <td>The Rising Son</td>\n",
       "      <td>1990</td>\n",
       "    </tr>\n",
       "    <tr>\n",
       "      <th>1</th>\n",
       "      <td>The Thousand Plane Raid</td>\n",
       "      <td>1969</td>\n",
       "    </tr>\n",
       "    <tr>\n",
       "      <th>2</th>\n",
       "      <td>Crucea de piatra</td>\n",
       "      <td>1993</td>\n",
       "    </tr>\n",
       "    <tr>\n",
       "      <th>3</th>\n",
       "      <td>Country</td>\n",
       "      <td>2000</td>\n",
       "    </tr>\n",
       "    <tr>\n",
       "      <th>4</th>\n",
       "      <td>Gaiking II</td>\n",
       "      <td>2011</td>\n",
       "    </tr>\n",
       "  </tbody>\n",
       "</table>\n",
       "</div>"
      ],
      "text/plain": [
       "                     title  year\n",
       "0           The Rising Son  1990\n",
       "1  The Thousand Plane Raid  1969\n",
       "2         Crucea de piatra  1993\n",
       "3                  Country  2000\n",
       "4               Gaiking II  2011"
      ]
     },
     "execution_count": 4,
     "metadata": {},
     "output_type": "execute_result"
    }
   ],
   "source": [
    "titles = pd.read_csv('data/titles.csv', index_col=None)\n",
    "titles.head()"
   ]
  },
  {
   "cell_type": "code",
   "execution_count": 5,
   "metadata": {
    "collapsed": false,
    "jupyter": {
     "outputs_hidden": false
    }
   },
   "outputs": [
    {
     "data": {
      "text/html": [
       "<div>\n",
       "<style scoped>\n",
       "    .dataframe tbody tr th:only-of-type {\n",
       "        vertical-align: middle;\n",
       "    }\n",
       "\n",
       "    .dataframe tbody tr th {\n",
       "        vertical-align: top;\n",
       "    }\n",
       "\n",
       "    .dataframe thead th {\n",
       "        text-align: right;\n",
       "    }\n",
       "</style>\n",
       "<table border=\"1\" class=\"dataframe\">\n",
       "  <thead>\n",
       "    <tr style=\"text-align: right;\">\n",
       "      <th></th>\n",
       "      <th>title</th>\n",
       "      <th>year</th>\n",
       "      <th>name</th>\n",
       "      <th>type</th>\n",
       "      <th>character</th>\n",
       "      <th>n</th>\n",
       "    </tr>\n",
       "  </thead>\n",
       "  <tbody>\n",
       "    <tr>\n",
       "      <th>0</th>\n",
       "      <td>Closet Monster</td>\n",
       "      <td>2015</td>\n",
       "      <td>Buffy #1</td>\n",
       "      <td>actor</td>\n",
       "      <td>Buffy 4</td>\n",
       "      <td>NaN</td>\n",
       "    </tr>\n",
       "    <tr>\n",
       "      <th>1</th>\n",
       "      <td>Suuri illusioni</td>\n",
       "      <td>1985</td>\n",
       "      <td>Homo $</td>\n",
       "      <td>actor</td>\n",
       "      <td>Guests</td>\n",
       "      <td>22.0</td>\n",
       "    </tr>\n",
       "    <tr>\n",
       "      <th>2</th>\n",
       "      <td>Battle of the Sexes</td>\n",
       "      <td>2017</td>\n",
       "      <td>$hutter</td>\n",
       "      <td>actor</td>\n",
       "      <td>Bobby Riggs Fan</td>\n",
       "      <td>10.0</td>\n",
       "    </tr>\n",
       "    <tr>\n",
       "      <th>3</th>\n",
       "      <td>Secret in Their Eyes</td>\n",
       "      <td>2015</td>\n",
       "      <td>$hutter</td>\n",
       "      <td>actor</td>\n",
       "      <td>2002 Dodger Fan</td>\n",
       "      <td>NaN</td>\n",
       "    </tr>\n",
       "    <tr>\n",
       "      <th>4</th>\n",
       "      <td>Steve Jobs</td>\n",
       "      <td>2015</td>\n",
       "      <td>$hutter</td>\n",
       "      <td>actor</td>\n",
       "      <td>1988 Opera House Patron</td>\n",
       "      <td>NaN</td>\n",
       "    </tr>\n",
       "  </tbody>\n",
       "</table>\n",
       "</div>"
      ],
      "text/plain": [
       "                  title  year      name   type                character     n\n",
       "0        Closet Monster  2015  Buffy #1  actor                  Buffy 4   NaN\n",
       "1       Suuri illusioni  1985    Homo $  actor                   Guests  22.0\n",
       "2   Battle of the Sexes  2017   $hutter  actor          Bobby Riggs Fan  10.0\n",
       "3  Secret in Their Eyes  2015   $hutter  actor          2002 Dodger Fan   NaN\n",
       "4            Steve Jobs  2015   $hutter  actor  1988 Opera House Patron   NaN"
      ]
     },
     "execution_count": 5,
     "metadata": {},
     "output_type": "execute_result"
    }
   ],
   "source": [
    "cast = pd.read_csv('data/cast.csv', index_col=None)\n",
    "cast.head()"
   ]
  },
  {
   "cell_type": "markdown",
   "metadata": {},
   "source": [
    "### What are the ten most common movie names of all time?"
   ]
  },
  {
   "cell_type": "code",
   "execution_count": 21,
   "metadata": {},
   "outputs": [],
   "source": [
    "# ten_most_movies = titles.groupby('title').count().head()\n",
    "ten_most_movies = titles.title.value_counts().head(10)\n",
    "                                                              \n"
   ]
  },
  {
   "cell_type": "code",
   "execution_count": 33,
   "metadata": {},
   "outputs": [
    {
     "name": "stdout",
     "output_type": "stream",
     "text": [
      "The ten most common movies name are:\n",
      "Hamlet                  18\n",
      "Carmen                  16\n",
      "Macbeth                 15\n",
      "The Outsider            12\n",
      "Maya                    12\n",
      "Temptation              11\n",
      "The Three Musketeers    11\n",
      "Othello                 11\n",
      "Kismet                  11\n",
      "Freedom                 11\n",
      "Name: title, dtype: int64\n"
     ]
    }
   ],
   "source": [
    "print(f'The ten most common movies name are:\\n{ten_most_movies}')"
   ]
  },
  {
   "cell_type": "markdown",
   "metadata": {},
   "source": [
    "### Which three years in the 1930s saw the most films released?"
   ]
  },
  {
   "cell_type": "code",
   "execution_count": 38,
   "metadata": {},
   "outputs": [],
   "source": [
    "year_1930_films_release = titles.loc[(titles.year>=1930) & (titles.year <1940)].year.value_counts().head(3)"
   ]
  },
  {
   "cell_type": "code",
   "execution_count": 42,
   "metadata": {},
   "outputs": [
    {
     "name": "stdout",
     "output_type": "stream",
     "text": [
      "tThe 3 years with the most released films in 30s are:\n",
      "1937    1196\n",
      "1936    1138\n",
      "1938    1129\n",
      "Name: year, dtype: int64\n"
     ]
    }
   ],
   "source": [
    "print(f'tThe 3 years with the most released films in 30s are:\\n{year_1930_films_release}')"
   ]
  },
  {
   "cell_type": "markdown",
   "metadata": {},
   "source": [
    "### Count the number of films that have been released in each decade over the history of cinema."
   ]
  },
  {
   "cell_type": "code",
   "execution_count": 45,
   "metadata": {},
   "outputs": [],
   "source": [
    "number_films_decade = (titles.year // 10 * 10).value_counts()"
   ]
  },
  {
   "cell_type": "code",
   "execution_count": 47,
   "metadata": {},
   "outputs": [
    {
     "name": "stdout",
     "output_type": "stream",
     "text": [
      "The amount of films relased per decade are:\n",
      "2010    67977\n",
      "2000    38713\n",
      "1990    22225\n",
      "1980    20243\n",
      "1970    18714\n",
      "1960    17515\n",
      "1950    12711\n",
      "1930    10097\n",
      "1920     8797\n",
      "1940     8576\n",
      "1910     6512\n",
      "2020      210\n",
      "1900       37\n",
      "1890        3\n",
      "Name: year, dtype: int64\n"
     ]
    }
   ],
   "source": [
    "print(f'The amount of films relased per decade are:\\n{number_films_decade}')"
   ]
  },
  {
   "cell_type": "markdown",
   "metadata": {},
   "source": [
    "### Count the number of \"Hamlet\" films made in each decade."
   ]
  },
  {
   "cell_type": "code",
   "execution_count": 61,
   "metadata": {},
   "outputs": [],
   "source": [
    "hamlet_decade = (titles.loc[titles.title == 'Hamlet'].year // 10 * 10).value_counts()"
   ]
  },
  {
   "cell_type": "code",
   "execution_count": 64,
   "metadata": {},
   "outputs": [
    {
     "name": "stdout",
     "output_type": "stream",
     "text": [
      " The total movies names Hamlet per decade are:\n",
      "2010    3\n",
      "1910    3\n",
      "1970    2\n",
      "2000    2\n",
      "1960    2\n",
      "1990    2\n",
      "1950    1\n",
      "1980    1\n",
      "1940    1\n",
      "1920    1\n",
      "Name: year, dtype: int64\n"
     ]
    }
   ],
   "source": [
    "print(f' The total movies names Hamlet per decade are:\\n{hamlet_decade}')"
   ]
  },
  {
   "cell_type": "markdown",
   "metadata": {},
   "source": [
    "### Count the number of \"Rustler\" characters in each decade of the history of film."
   ]
  },
  {
   "cell_type": "code",
   "execution_count": 77,
   "metadata": {},
   "outputs": [],
   "source": [
    "rustler_decade = (cast.loc[cast.character == 'Rustler'].year // 10 * 10).value_counts()"
   ]
  },
  {
   "cell_type": "code",
   "execution_count": 78,
   "metadata": {},
   "outputs": [
    {
     "name": "stdout",
     "output_type": "stream",
     "text": [
      " The total characters nameed Rustler per decade are:\n",
      "1930    84\n",
      "1940    18\n",
      "1970     9\n",
      "1950     8\n",
      "1920     6\n",
      "1990     4\n",
      "2000     2\n",
      "1960     2\n",
      "1980     1\n",
      "Name: year, dtype: int64\n"
     ]
    }
   ],
   "source": [
    "print(f' The total characters nameed Rustler per decade are:\\n{rustler_decade}')"
   ]
  },
  {
   "cell_type": "markdown",
   "metadata": {},
   "source": [
    "### Count the number of \"Hamlet\" characters in each decade."
   ]
  },
  {
   "cell_type": "code",
   "execution_count": 79,
   "metadata": {},
   "outputs": [],
   "source": [
    "Hamlet_character_decade = (cast.loc[cast.character == 'Hamlet'].year // 10 * 10).value_counts()"
   ]
  },
  {
   "cell_type": "code",
   "execution_count": 80,
   "metadata": {},
   "outputs": [
    {
     "name": "stdout",
     "output_type": "stream",
     "text": [
      " The total characters nameed Hamlet per decade are:\n",
      "2010    28\n",
      "2000    19\n",
      "1990    11\n",
      "1970     8\n",
      "1960     7\n",
      "1910     6\n",
      "1930     6\n",
      "1950     3\n",
      "1980     2\n",
      "1940     1\n",
      "1920     1\n",
      "Name: year, dtype: int64\n"
     ]
    }
   ],
   "source": [
    "print(f' The total characters nameed Hamlet per decade are:\\n{Hamlet_character_decade}')"
   ]
  },
  {
   "cell_type": "markdown",
   "metadata": {},
   "source": [
    "### What are the 11 most common character names in movie history?"
   ]
  },
  {
   "cell_type": "code",
   "execution_count": 94,
   "metadata": {},
   "outputs": [],
   "source": [
    "top_11_most_common_character = cast.character.value_counts().head(11)"
   ]
  },
  {
   "cell_type": "code",
   "execution_count": 96,
   "metadata": {},
   "outputs": [
    {
     "name": "stdout",
     "output_type": "stream",
     "text": [
      "The 11 most common character names in movie history are:\n",
      "Himself        19600\n",
      "Dancer         12096\n",
      "Extra          10953\n",
      "Reporter        8154\n",
      "Doctor          7436\n",
      "Student         7177\n",
      "Policeman       6883\n",
      "Party Guest     6742\n",
      "Nurse           6676\n",
      "Bartender       6613\n",
      "Minor Role      6255\n",
      "Name: character, dtype: int64\n"
     ]
    }
   ],
   "source": [
    "print(f'The 11 most common character names in movie history are:\\n{top_11_most_common_character}')"
   ]
  },
  {
   "cell_type": "markdown",
   "metadata": {},
   "source": [
    "### Who are the 10 people most often credited as \"Herself\" in film history?"
   ]
  },
  {
   "cell_type": "code",
   "execution_count": 107,
   "metadata": {},
   "outputs": [],
   "source": [
    "credited_herself = cast.loc[cast.character == 'Herself'].name.value_counts().head(10)"
   ]
  },
  {
   "cell_type": "code",
   "execution_count": 108,
   "metadata": {},
   "outputs": [
    {
     "name": "stdout",
     "output_type": "stream",
     "text": [
      "The 10 people most often credited as \"Herself\" in film history are:\n",
      "Queen Elizabeth II    11\n",
      "Joyce Brothers         9\n",
      "Margaret Thatcher      8\n",
      "Hillary Clinton        7\n",
      "Mary Jo Pehl           7\n",
      "Sumie Sakai            6\n",
      "Joan Rivers            6\n",
      "Rekha                  5\n",
      "Caroline Rhea          5\n",
      "Kareena Kapoor         5\n",
      "Name: name, dtype: int64\n"
     ]
    }
   ],
   "source": [
    "print(f'The 10 people most often credited as \"Herself\" in film history are:\\n{credited_herself}')"
   ]
  },
  {
   "cell_type": "markdown",
   "metadata": {},
   "source": [
    "### Who are the 10 people most often credited as \"Himself\" in film history?"
   ]
  },
  {
   "cell_type": "code",
   "execution_count": 110,
   "metadata": {},
   "outputs": [],
   "source": [
    "credited_himself = cast.loc[cast.character == 'Himself'].name.value_counts().head(10)"
   ]
  },
  {
   "cell_type": "code",
   "execution_count": 112,
   "metadata": {},
   "outputs": [
    {
     "name": "stdout",
     "output_type": "stream",
     "text": [
      "The 10 people most often credited as \"Himself\" in film history are:\n",
      "Adolf Hitler             100\n",
      "Richard Nixon             46\n",
      "Ronald Reagan             39\n",
      "John F. Kennedy           34\n",
      "Winston Churchill         24\n",
      "Benito Mussolini          23\n",
      "Ron Jeremy                23\n",
      "George W. Bush            23\n",
      "Martin Luther King        21\n",
      "Franklin D. Roosevelt     20\n",
      "Name: name, dtype: int64\n"
     ]
    }
   ],
   "source": [
    "print(f'The 10 people most often credited as \"Himself\" in film history are:\\n{credited_himself}')"
   ]
  },
  {
   "cell_type": "markdown",
   "metadata": {},
   "source": [
    "### Which actors or actresses appeared in the most movies in the year 1945?"
   ]
  },
  {
   "cell_type": "code",
   "execution_count": 115,
   "metadata": {},
   "outputs": [],
   "source": [
    "most_act_1945 = cast.loc[(cast.year == 1945)].name.value_counts().head(1)"
   ]
  },
  {
   "cell_type": "code",
   "execution_count": 121,
   "metadata": {},
   "outputs": [
    {
     "name": "stdout",
     "output_type": "stream",
     "text": [
      "The actor or actresses that appeared in the most movies in the year 1945 is: Emmett Vogan\n"
     ]
    }
   ],
   "source": [
    "print(f'The actor or actresses that appeared in the most movies in the year 1945 is: {most_act_1945.index[0]}')"
   ]
  },
  {
   "cell_type": "markdown",
   "metadata": {},
   "source": [
    "### Which actors or actresses appeared in the most movies in the year 1985?"
   ]
  },
  {
   "cell_type": "code",
   "execution_count": 122,
   "metadata": {},
   "outputs": [],
   "source": [
    "most_act_1985 = cast.loc[(cast.year == 1985)].name.value_counts().head(1)"
   ]
  },
  {
   "cell_type": "code",
   "execution_count": 123,
   "metadata": {},
   "outputs": [
    {
     "name": "stdout",
     "output_type": "stream",
     "text": [
      "The actor or actresses that appeared in the most movies in the year 1945 is: Mammootty\n"
     ]
    }
   ],
   "source": [
    "print(f'The actor or actresses that appeared in the most movies in the year 1945 is: {most_act_1985.index[0]}')"
   ]
  },
  {
   "cell_type": "markdown",
   "metadata": {},
   "source": [
    "### How many roles \"Mammootty\" has played in each year of his career."
   ]
  },
  {
   "cell_type": "code",
   "execution_count": 126,
   "metadata": {},
   "outputs": [],
   "source": [
    "roles_mammootty = cast.loc[(cast.name == \"Mammootty\")].year.value_counts()"
   ]
  },
  {
   "cell_type": "code",
   "execution_count": 131,
   "metadata": {},
   "outputs": [
    {
     "name": "stdout",
     "output_type": "stream",
     "text": [
      "The amount roles \"Mammootty\" has played in each year of his career are:\n",
      "1985    22\n",
      "1983    18\n",
      "1986    18\n",
      "1984    16\n",
      "1990    15\n",
      "2009    12\n",
      "1989    10\n",
      "2008     9\n",
      "1987     9\n",
      "2010     9\n",
      "2006     8\n",
      "2004     8\n",
      "2007     7\n",
      "2011     7\n",
      "1982     7\n",
      "2012     7\n",
      "1988     7\n",
      "2000     7\n",
      "1991     6\n",
      "2005     6\n",
      "2014     6\n",
      "2015     6\n",
      "2013     5\n",
      "1995     5\n",
      "1994     5\n",
      "1993     5\n",
      "1998     4\n",
      "1999     4\n",
      "2016     4\n",
      "1992     3\n",
      "1996     3\n",
      "2001     3\n",
      "2002     3\n",
      "1981     3\n",
      "1997     2\n",
      "1980     2\n",
      "2003     2\n",
      "2017     1\n",
      "1971     1\n",
      "Name: year, dtype: int64\n"
     ]
    }
   ],
   "source": [
    "print(f'The amount roles \"Mammootty\" has played in each year of his career are:\\n{roles_mammootty}')"
   ]
  },
  {
   "cell_type": "markdown",
   "metadata": {},
   "source": [
    "### What are the 10 most frequent roles that start with the phrase \"Patron in\"?"
   ]
  },
  {
   "cell_type": "code",
   "execution_count": 146,
   "metadata": {},
   "outputs": [],
   "source": [
    "start_patron_in = cast[cast.character.str.startswith(\"Patron in\")].character.value_counts().head(10)"
   ]
  },
  {
   "cell_type": "code",
   "execution_count": 148,
   "metadata": {},
   "outputs": [
    {
     "name": "stdout",
     "output_type": "stream",
     "text": [
      "The 10 most frequent roles that start with the phrase \"Patron in\" are:\n",
      "Patron in Frisky Rabbit         16\n",
      "Patron in the Coffee House       9\n",
      "Patron in Chinese Restaurant     9\n",
      "Patron in Billiard Parlor        5\n",
      "Patron in restaurant             4\n",
      "Patron in Bar                    4\n",
      "Patron in Restaurant             3\n",
      "Patron in Club                   3\n",
      "Patron in cabaret                3\n",
      "Patron in Audience               2\n",
      "Name: character, dtype: int64\n"
     ]
    }
   ],
   "source": [
    "print(f'The 10 most frequent roles that start with the phrase \"Patron in\" are:\\n{start_patron_in}')"
   ]
  },
  {
   "cell_type": "markdown",
   "metadata": {},
   "source": [
    "### What are the 10 most frequent roles that start with the word \"Science\"?"
   ]
  },
  {
   "cell_type": "code",
   "execution_count": 150,
   "metadata": {},
   "outputs": [],
   "source": [
    "start_science = cast[cast.character.str.startswith(\"Science\")].character.value_counts().head(10)"
   ]
  },
  {
   "cell_type": "code",
   "execution_count": 151,
   "metadata": {},
   "outputs": [
    {
     "name": "stdout",
     "output_type": "stream",
     "text": [
      "The 10 most frequent roles that start with the phrase \"Science\" are:\n",
      "Science Teacher         60\n",
      "Science Fair Student     9\n",
      "Science Student          9\n",
      "Science Fair Judge       6\n",
      "Science Kid              5\n",
      "Science Promo Cadet      5\n",
      "Science Club Member      5\n",
      "Science Reporter         5\n",
      "Science                  4\n",
      "Science teacher          3\n",
      "Name: character, dtype: int64\n"
     ]
    }
   ],
   "source": [
    "print(f'The 10 most frequent roles that start with the phrase \"Science\" are:\\n{start_science}')"
   ]
  },
  {
   "cell_type": "markdown",
   "metadata": {},
   "source": [
    "### Count number of n-values of the roles that Judi Dench has played over her career."
   ]
  },
  {
   "cell_type": "code",
   "execution_count": 161,
   "metadata": {},
   "outputs": [],
   "source": [
    "roles_judi_dench =  cast.loc[(cast.name == 'Judi Dench') & (cast.n > 0)].n.count()"
   ]
  },
  {
   "cell_type": "code",
   "execution_count": 163,
   "metadata": {},
   "outputs": [
    {
     "name": "stdout",
     "output_type": "stream",
     "text": [
      " Judi Dench has played 48 n-roles in her career.\n"
     ]
    }
   ],
   "source": [
    "print(f' Judi Dench has played {roles_judi_dench} n-roles in her career.')"
   ]
  },
  {
   "cell_type": "markdown",
   "metadata": {},
   "source": [
    "### Count number of n-values of Cary Grant's roles through his career."
   ]
  },
  {
   "cell_type": "code",
   "execution_count": 164,
   "metadata": {},
   "outputs": [],
   "source": [
    "roles_Cary_Grant = cast.loc[(cast.name == 'Cary Grant') & (cast.n > 0)].n.count()"
   ]
  },
  {
   "cell_type": "code",
   "execution_count": 165,
   "metadata": {},
   "outputs": [
    {
     "name": "stdout",
     "output_type": "stream",
     "text": [
      " Cary Grant has played 75 n-roles in his career.\n"
     ]
    }
   ],
   "source": [
    "print(f' Cary Grant has played {roles_Cary_Grant} n-roles in his career.')"
   ]
  },
  {
   "cell_type": "markdown",
   "metadata": {},
   "source": [
    "### Count number of n-value of the roles that Sidney Poitier has acted over the years."
   ]
  },
  {
   "cell_type": "code",
   "execution_count": 167,
   "metadata": {},
   "outputs": [],
   "source": [
    "roles_Sidney_Poiter = cast.loc[(cast.name == 'Sidney Poitier')].n.value_counts()"
   ]
  },
  {
   "cell_type": "code",
   "execution_count": 168,
   "metadata": {},
   "outputs": [
    {
     "name": "stdout",
     "output_type": "stream",
     "text": [
      "The number of n-value of the roles that Sidney Poiter has acted in his carrer are:\n",
      "1.0     21\n",
      "2.0      8\n",
      "3.0      6\n",
      "4.0      3\n",
      "21.0     1\n",
      "13.0     1\n",
      "5.0      1\n",
      "10.0     1\n",
      "Name: n, dtype: int64\n"
     ]
    }
   ],
   "source": [
    "print(f'The number of n-value of the roles that Sidney Poiter has acted in his carrer are:\\n{roles_Sidney_Poiter}')"
   ]
  },
  {
   "cell_type": "markdown",
   "metadata": {},
   "source": [
    "### How many leading (n=1) roles were available to actors, and how many to actresses, in the 1950s?"
   ]
  },
  {
   "cell_type": "code",
   "execution_count": 175,
   "metadata": {},
   "outputs": [],
   "source": [
    "leading_actor = cast.loc[(cast.n == 1) & (cast.type == 'actor') & (cast.year >= 1950) & \\\n",
    "                        (cast.year > 1960)].type.count()\n",
    "leading_actresses = cast.loc[(cast.n == 1) & (cast.type == 'actress') & (cast.year >= 1950) & \\\n",
    "                        (cast.year > 1960)].type.count()"
   ]
  },
  {
   "cell_type": "code",
   "execution_count": 176,
   "metadata": {},
   "outputs": [
    {
     "name": "stdout",
     "output_type": "stream",
     "text": [
      "in the 1950s there were 76398 actor leading roles and 31480 actresses\n"
     ]
    }
   ],
   "source": [
    "print(f'in the 1950s there were {leading_actor} actor leading roles and {leading_actresses} actresses')"
   ]
  },
  {
   "cell_type": "markdown",
   "metadata": {},
   "source": [
    "### How many supporting (n=2) roles were available to actors, and how many to actresses, in the 1950s?"
   ]
  },
  {
   "cell_type": "code",
   "execution_count": 177,
   "metadata": {},
   "outputs": [],
   "source": [
    "support_roles_1950s = cast.loc[(cast.n == 1) & (cast.year >= 1950) & (cast.year > 1960)].type.count()"
   ]
  },
  {
   "cell_type": "code",
   "execution_count": 178,
   "metadata": {},
   "outputs": [
    {
     "name": "stdout",
     "output_type": "stream",
     "text": [
      "There were 107878 supporting roles in 1950s\n"
     ]
    }
   ],
   "source": [
    "print(f'There were {support_roles_1950s} supporting roles in 1950s')"
   ]
  }
 ],
 "metadata": {
  "kernelspec": {
   "display_name": "Python 3",
   "language": "python",
   "name": "python3"
  },
  "language_info": {
   "codemirror_mode": {
    "name": "ipython",
    "version": 3
   },
   "file_extension": ".py",
   "mimetype": "text/x-python",
   "name": "python",
   "nbconvert_exporter": "python",
   "pygments_lexer": "ipython3",
   "version": "3.8.3"
  }
 },
 "nbformat": 4,
 "nbformat_minor": 4
}
